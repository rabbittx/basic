{
 "cells": [
  {
   "attachments": {},
   "cell_type": "markdown",
   "metadata": {},
   "source": [
    "### محاسبه ب م م دو عدد \n",
    "####  به روش نردبانی"
   ]
  },
  {
   "attachments": {},
   "cell_type": "markdown",
   "metadata": {},
   "source": [
    "a = 10 + 5\n"
   ]
  },
  {
   "attachments": {},
   "cell_type": "markdown",
   "metadata": {},
   "source": [
    "در این روش ابتدا عدد بزرگ تر را تقسیم بر عدد کوچک تر میکنیم اگر نتیجه صفر بود *ب م م* همان عدد کوچک تر است"
   ]
  },
  {
   "cell_type": "code",
   "execution_count": null,
   "metadata": {},
   "outputs": [],
   "source": [
    "if max_number % min_number == 0 :\n",
    "    bmm = min_number\n"
   ]
  },
  {
   "attachments": {},
   "cell_type": "markdown",
   "metadata": {},
   "source": [
    "#sadasd"
   ]
  },
  {
   "cell_type": "code",
   "execution_count": null,
   "metadata": {},
   "outputs": [],
   "source": [
    "#sadasd   \n",
    "bbb"
   ]
  },
  {
   "attachments": {},
   "cell_type": "markdown",
   "metadata": {},
   "source": [
    "اما اگر حاصل این تقیسیم صفر نشد عدد کوچگ را جای گزین عدد بزدک می کنیم و حاصل تقسیم را مساوی عدد کوچک قرار می دهیم\n"
   ]
  },
  {
   "cell_type": "code",
   "execution_count": 2,
   "metadata": {},
   "outputs": [
    {
     "name": "stdout",
     "output_type": "stream",
     "text": [
      "4\n",
      "TehranShiraz\n",
      "[3, '10']\n"
     ]
    }
   ],
   "source": [
    "stuff  = ['Tehran' , 'Shiraz' , 3 , '10' ]\n",
    "print( len(stuff) )\n",
    "print( stuff[0] + stuff[1] )\n",
    "stuff.append('Ahvaz')\n",
    "print(stuff[2:4])"
   ]
  },
  {
   "cell_type": "code",
   "execution_count": 8,
   "metadata": {},
   "outputs": [
    {
     "name": "stdout",
     "output_type": "stream",
     "text": [
      "36\n",
      "0\n",
      "1\n",
      "14\n"
     ]
    }
   ],
   "source": [
    "import random\n",
    "random.seed()\n",
    "\n",
    "for i in range(1,5) :\n",
    "    print (random.randrange(0,100))"
   ]
  },
  {
   "cell_type": "code",
   "execution_count": 23,
   "metadata": {},
   "outputs": [
    {
     "ename": "TypeError",
     "evalue": "'int' object is not iterable",
     "output_type": "error",
     "traceback": [
      "\u001b[1;31m---------------------------------------------------------------------------\u001b[0m",
      "\u001b[1;31mTypeError\u001b[0m                                 Traceback (most recent call last)",
      "Cell \u001b[1;32mIn[23], line 1\u001b[0m\n\u001b[1;32m----> 1\u001b[0m \u001b[39msum\u001b[39;49m(\u001b[39m2\u001b[39;49m,\u001b[39m4\u001b[39;49m)\n",
      "\u001b[1;31mTypeError\u001b[0m: 'int' object is not iterable"
     ]
    }
   ],
   "source": [
    "sum(2,4)"
   ]
  },
  {
   "attachments": {},
   "cell_type": "markdown",
   "metadata": {},
   "source": [
    "تا زمانی که حال این تقسیم به صفر برسد به کارمان ادامه میدهیم و زمانی که به صفر رسید عدد کوچک تر را به عنوان ب م م بر میگردانیم"
   ]
  },
  {
   "cell_type": "code",
   "execution_count": null,
   "metadata": {},
   "outputs": [],
   "source": [
    "bmm = min_number"
   ]
  },
  {
   "attachments": {},
   "cell_type": "markdown",
   "metadata": {},
   "source": [
    "## برسی کد "
   ]
  },
  {
   "attachments": {},
   "cell_type": "markdown",
   "metadata": {},
   "source": [
    "برای انجام این کار ابتدا  ۲ وردوی را از کار بر در یافت میکنیم \n"
   ]
  },
  {
   "cell_type": "code",
   "execution_count": null,
   "metadata": {},
   "outputs": [],
   "source": [
    "first_number = int(input('enter first number :'))\n",
    "second_number = int(input('enter second number :'))"
   ]
  },
  {
   "attachments": {},
   "cell_type": "markdown",
   "metadata": {},
   "source": [
    ".سپس عدد کوچک تر و بزرگ تر را پیدا میکنیم \n"
   ]
  },
  {
   "cell_type": "code",
   "execution_count": null,
   "metadata": {},
   "outputs": [],
   "source": [
    "min_num = min(first_number,second_number)\n",
    "max_num = max(first_number,second_number)"
   ]
  },
  {
   "attachments": {},
   "cell_type": "markdown",
   "metadata": {},
   "source": [
    "با استفاده از حلقه ای به طول عدد کوچک شرط اول را برسی میکنیم و حاصل را در متغیر ب م م ذخیره میکنیم\n"
   ]
  },
  {
   "cell_type": "code",
   "execution_count": null,
   "metadata": {},
   "outputs": [],
   "source": [
    "bmm = min_num if max_num % min_num == 0 else max_num % min_num\n"
   ]
  },
  {
   "attachments": {},
   "cell_type": "markdown",
   "metadata": {},
   "source": [
    "به عبارت دیگر می توان گفت متغیر ب م م را برابر عدد کوچک است اگر حاصل تقسیم عدد بزرگ در عدد کوچک صفر بود و اگر شرط برقرار نبود حاصل این تقسیم را در متغیر ب م م ذخیره کن\n"
   ]
  },
  {
   "attachments": {},
   "cell_type": "markdown",
   "metadata": {},
   "source": [
    "سپس مقدار متغیر ها را برای اجرای مجدد جا به جا می کنیم "
   ]
  },
  {
   "cell_type": "code",
   "execution_count": null,
   "metadata": {},
   "outputs": [],
   "source": [
    "max_num , min_num = min_num , bmm \n"
   ]
  },
  {
   "attachments": {},
   "cell_type": "markdown",
   "metadata": {},
   "source": [
    "با برسی شرط برابر صفر شدن تقسیم متغیر ب م م در عدد کوچک از حلقه خارج میشویم \n"
   ]
  },
  {
   "cell_type": "code",
   "execution_count": null,
   "metadata": {},
   "outputs": [],
   "source": [
    "if bmm % min_num == 0 :\n",
    "  break"
   ]
  },
  {
   "attachments": {},
   "cell_type": "markdown",
   "metadata": {},
   "source": [
    "با اتمام حلقه مقداری که در ب م م ذخیره شده از جواب مورد نیاز ما است یعنی ب م م دو عدد ورودی\n"
   ]
  },
  {
   "attachments": {},
   "cell_type": "markdown",
   "metadata": {},
   "source": [
    "با استفاده از یک تابع می توان به صورت کوتاه از این روش استفاده کرد "
   ]
  },
  {
   "cell_type": "code",
   "execution_count": null,
   "metadata": {},
   "outputs": [],
   "source": [
    "def find_bmm():\n",
    "    # find bmm of 2 number\n",
    "    first_number = int(input('enter first number :'))\n",
    "    second_number = int(input('enter second number :'))\n",
    "    min_num = min(first_number,second_number)\n",
    "    max_num = max(first_number,second_number)\n",
    "\n",
    "    for i in range(min_num):\n",
    "        bmm = min_num if max_num % min_num == 0 else max_num % min_num\n",
    "        max_num , min_num = min_num , bmm \n",
    "        if bmm % min_num == 0 :\n",
    "            break\n",
    "\n",
    "    print(f'BMM of [{first_number}]-[{second_number}] : is {bmm}')\n"
   ]
  }
 ],
 "metadata": {
  "kernelspec": {
   "display_name": "Python 3",
   "language": "python",
   "name": "python3"
  },
  "language_info": {
   "codemirror_mode": {
    "name": "ipython",
    "version": 3
   },
   "file_extension": ".py",
   "mimetype": "text/x-python",
   "name": "python",
   "nbconvert_exporter": "python",
   "pygments_lexer": "ipython3",
   "version": "3.11.0"
  },
  "orig_nbformat": 4,
  "vscode": {
   "interpreter": {
    "hash": "1b7706ef547c934974b476efc6f4af83e4eb9d58c24bbd199d257d9fe3fa79c4"
   }
  }
 },
 "nbformat": 4,
 "nbformat_minor": 2
}
